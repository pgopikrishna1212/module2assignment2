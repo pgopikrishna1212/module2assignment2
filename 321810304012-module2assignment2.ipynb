{
 "cells": [
  {
   "cell_type": "code",
   "execution_count": 2,
   "metadata": {},
   "outputs": [
    {
     "name": "stdout",
     "output_type": "stream",
     "text": [
      "14\n"
     ]
    }
   ],
   "source": [
    "def maximum(a, b, c):\n",
    "if (a >= b) and (a >= c): \n",
    "        largest = a \n",
    "  \n",
    "    elif (b >= a) and (b >= c): \n",
    "        largest = b \n",
    "    else: \n",
    "    largest = c \n",
    "          \n",
    "return largest   \n",
    "a = 10\n",
    "b = 14\n",
    "c = 12\n",
    "print(maximum(a, b, c))"
   ]
  },
  {
   "cell_type": "code",
   "execution_count": 3,
   "metadata": {},
   "outputs": [
    {
     "name": "stdout",
     "output_type": "stream",
     "text": [
      "gnirts a esrever ot margorp\n"
     ]
    }
   ],
   "source": [
    "def my_function(x):\n",
    "  return x[::-1]\n",
    "\n",
    "mytxt = my_function(\"program to reverse a string\")\n",
    "\n",
    "print(mytxt)"
   ]
  },
  {
   "cell_type": "code",
   "execution_count": 11,
   "metadata": {},
   "outputs": [
    {
     "name": "stdout",
     "output_type": "stream",
     "text": [
      "Enter any number: 6\n",
      "6 is not a prime number\n"
     ]
    }
   ],
   "source": [
    "number = int(input(\"Enter any number: \"))\n",
    "\n",
    "if number > 1:\n",
    "    for i in range(2, number):\n",
    "        if (number % i) == 0:\n",
    "            print(number, \"is not a prime number\")\n",
    "            break\n",
    "    else:\n",
    "        print(number, \"is a prime number\")\n",
    "\n",
    "\n",
    "else:\n",
    "    print(number, \"is not a prime number\")"
   ]
  },
  {
   "cell_type": "code",
   "execution_count": 12,
   "metadata": {},
   "outputs": [
    {
     "name": "stdout",
     "output_type": "stream",
     "text": [
      "30\n"
     ]
    }
   ],
   "source": [
    "def squaresum(n) \n",
    "sm = 0\n",
    "for i in range(1, n+1) : \n",
    "sm = sm + (i * i) \n",
    "return sm \n",
    "n = 4\n",
    "print(squaresum(n)) \n",
    "\n",
    "\n"
   ]
  },
  {
   "cell_type": "code",
   "execution_count": null,
   "metadata": {},
   "outputs": [],
   "source": []
  }
 ],
 "metadata": {
  "kernelspec": {
   "display_name": "Python 3",
   "language": "python",
   "name": "python3"
  },
  "language_info": {
   "codemirror_mode": {
    "name": "ipython",
    "version": 3
   },
   "file_extension": ".py",
   "mimetype": "text/x-python",
   "name": "python",
   "nbconvert_exporter": "python",
   "pygments_lexer": "ipython3",
   "version": "3.7.6"
  }
 },
 "nbformat": 4,
 "nbformat_minor": 4
}
